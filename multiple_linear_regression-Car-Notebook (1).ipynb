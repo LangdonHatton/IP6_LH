{
 "cells": [
  {
   "cell_type": "markdown",
   "metadata": {
    "colab_type": "text",
    "id": "CazISR8X_HUG"
   },
   "source": [
    "# Multiple Linear Regression- Car dataset"
   ]
  },
  {
   "cell_type": "markdown",
   "metadata": {
    "colab_type": "text",
    "id": "pOyqYHTk_Q57"
   },
   "source": [
    "## Importing the libraries"
   ]
  },
  {
   "cell_type": "code",
   "execution_count": 2,
   "metadata": {},
   "outputs": [],
   "source": [
    "import pandas as pd\n",
    "import numpy as np\n",
    "import matplotlib.pyplot as plt\n",
    "import seaborn as sns"
   ]
  },
  {
   "cell_type": "markdown",
   "metadata": {
    "colab_type": "text",
    "id": "vgC61-ah_WIz"
   },
   "source": [
    "## Importing the dataset"
   ]
  },
  {
   "cell_type": "code",
   "execution_count": 3,
   "metadata": {},
   "outputs": [],
   "source": [
    "ds=pd.read_csv('CAR.csv')"
   ]
  },
  {
   "cell_type": "code",
   "execution_count": 4,
   "metadata": {},
   "outputs": [
    {
     "data": {
      "text/html": [
       "<div>\n",
       "<style scoped>\n",
       "    .dataframe tbody tr th:only-of-type {\n",
       "        vertical-align: middle;\n",
       "    }\n",
       "\n",
       "    .dataframe tbody tr th {\n",
       "        vertical-align: top;\n",
       "    }\n",
       "\n",
       "    .dataframe thead th {\n",
       "        text-align: right;\n",
       "    }\n",
       "</style>\n",
       "<table border=\"1\" class=\"dataframe\">\n",
       "  <thead>\n",
       "    <tr style=\"text-align: right;\">\n",
       "      <th></th>\n",
       "      <th>year</th>\n",
       "      <th>selling_price</th>\n",
       "      <th>km_driven</th>\n",
       "      <th>fuel</th>\n",
       "      <th>seller_type</th>\n",
       "      <th>transmission</th>\n",
       "      <th>owner</th>\n",
       "    </tr>\n",
       "  </thead>\n",
       "  <tbody>\n",
       "    <tr>\n",
       "      <th>0</th>\n",
       "      <td>2007</td>\n",
       "      <td>60000</td>\n",
       "      <td>70000</td>\n",
       "      <td>Petrol</td>\n",
       "      <td>Individual</td>\n",
       "      <td>Manual</td>\n",
       "      <td>First Owner</td>\n",
       "    </tr>\n",
       "    <tr>\n",
       "      <th>1</th>\n",
       "      <td>2007</td>\n",
       "      <td>135000</td>\n",
       "      <td>50000</td>\n",
       "      <td>Petrol</td>\n",
       "      <td>Individual</td>\n",
       "      <td>Manual</td>\n",
       "      <td>First Owner</td>\n",
       "    </tr>\n",
       "    <tr>\n",
       "      <th>2</th>\n",
       "      <td>2012</td>\n",
       "      <td>600000</td>\n",
       "      <td>100000</td>\n",
       "      <td>Diesel</td>\n",
       "      <td>Individual</td>\n",
       "      <td>Manual</td>\n",
       "      <td>First Owner</td>\n",
       "    </tr>\n",
       "    <tr>\n",
       "      <th>3</th>\n",
       "      <td>2017</td>\n",
       "      <td>250000</td>\n",
       "      <td>46000</td>\n",
       "      <td>Petrol</td>\n",
       "      <td>Individual</td>\n",
       "      <td>Manual</td>\n",
       "      <td>First Owner</td>\n",
       "    </tr>\n",
       "    <tr>\n",
       "      <th>4</th>\n",
       "      <td>2014</td>\n",
       "      <td>450000</td>\n",
       "      <td>141000</td>\n",
       "      <td>Diesel</td>\n",
       "      <td>Individual</td>\n",
       "      <td>Manual</td>\n",
       "      <td>Second Owner</td>\n",
       "    </tr>\n",
       "  </tbody>\n",
       "</table>\n",
       "</div>"
      ],
      "text/plain": [
       "   year  selling_price  km_driven    fuel seller_type transmission  \\\n",
       "0  2007          60000      70000  Petrol  Individual       Manual   \n",
       "1  2007         135000      50000  Petrol  Individual       Manual   \n",
       "2  2012         600000     100000  Diesel  Individual       Manual   \n",
       "3  2017         250000      46000  Petrol  Individual       Manual   \n",
       "4  2014         450000     141000  Diesel  Individual       Manual   \n",
       "\n",
       "          owner  \n",
       "0   First Owner  \n",
       "1   First Owner  \n",
       "2   First Owner  \n",
       "3   First Owner  \n",
       "4  Second Owner  "
      ]
     },
     "execution_count": 4,
     "metadata": {},
     "output_type": "execute_result"
    }
   ],
   "source": [
    "ds.head()"
   ]
  },
  {
   "cell_type": "code",
   "execution_count": null,
   "metadata": {},
   "outputs": [],
   "source": []
  },
  {
   "cell_type": "markdown",
   "metadata": {},
   "source": [
    "### Split the dataset into independent and Dependent variables"
   ]
  },
  {
   "cell_type": "code",
   "execution_count": 5,
   "metadata": {},
   "outputs": [
    {
     "name": "stdout",
     "output_type": "stream",
     "text": [
      "<class 'pandas.core.frame.DataFrame'>\n",
      "RangeIndex: 4337 entries, 0 to 4336\n",
      "Data columns (total 7 columns):\n",
      " #   Column         Non-Null Count  Dtype \n",
      "---  ------         --------------  ----- \n",
      " 0   year           4337 non-null   int64 \n",
      " 1   selling_price  4337 non-null   int64 \n",
      " 2   km_driven      4337 non-null   int64 \n",
      " 3   fuel           4337 non-null   object\n",
      " 4   seller_type    4337 non-null   object\n",
      " 5   transmission   4337 non-null   object\n",
      " 6   owner          4337 non-null   object\n",
      "dtypes: int64(3), object(4)\n",
      "memory usage: 237.3+ KB\n"
     ]
    }
   ],
   "source": [
    "ds.info()"
   ]
  },
  {
   "cell_type": "code",
   "execution_count": 9,
   "metadata": {},
   "outputs": [],
   "source": [
    "X=ds[['year', 'km_driven', 'fuel', 'seller_type',\n",
    "       'transmission', 'owner']]\n",
    "y=ds[['selling_price']]"
   ]
  },
  {
   "cell_type": "code",
   "execution_count": 6,
   "metadata": {},
   "outputs": [
    {
     "data": {
      "text/plain": [
       "Index(['year', 'selling_price', 'km_driven', 'fuel', 'seller_type',\n",
       "       'transmission', 'owner'],\n",
       "      dtype='object')"
      ]
     },
     "execution_count": 6,
     "metadata": {},
     "output_type": "execute_result"
    }
   ],
   "source": [
    "ds.columns"
   ]
  },
  {
   "cell_type": "markdown",
   "metadata": {},
   "source": [
    "### Work with the catagorical data"
   ]
  },
  {
   "cell_type": "code",
   "execution_count": 7,
   "metadata": {},
   "outputs": [
    {
     "data": {
      "text/plain": [
       "Diesel      2151\n",
       "Petrol      2122\n",
       "CNG           40\n",
       "LPG           23\n",
       "Electric       1\n",
       "Name: fuel, dtype: int64"
      ]
     },
     "execution_count": 7,
     "metadata": {},
     "output_type": "execute_result"
    }
   ],
   "source": [
    "ds['fuel'].value_counts()"
   ]
  },
  {
   "cell_type": "code",
   "execution_count": 11,
   "metadata": {},
   "outputs": [
    {
     "data": {
      "text/plain": [
       "Individual          3242\n",
       "Dealer               993\n",
       "Trustmark Dealer     102\n",
       "Name: seller_type, dtype: int64"
      ]
     },
     "execution_count": 11,
     "metadata": {},
     "output_type": "execute_result"
    }
   ],
   "source": [
    "ds['seller_type'].value_counts()"
   ]
  },
  {
   "cell_type": "code",
   "execution_count": 12,
   "metadata": {},
   "outputs": [
    {
     "data": {
      "text/plain": [
       "Manual       3889\n",
       "Automatic     448\n",
       "Name: transmission, dtype: int64"
      ]
     },
     "execution_count": 12,
     "metadata": {},
     "output_type": "execute_result"
    }
   ],
   "source": [
    "ds['transmission'].value_counts()"
   ]
  },
  {
   "cell_type": "code",
   "execution_count": 13,
   "metadata": {},
   "outputs": [
    {
     "data": {
      "text/plain": [
       "First Owner             2831\n",
       "Second Owner            1104\n",
       "Third Owner              304\n",
       "Fourth & Above Owner      81\n",
       "Test Drive Car            17\n",
       "Name: owner, dtype: int64"
      ]
     },
     "execution_count": 13,
     "metadata": {},
     "output_type": "execute_result"
    }
   ],
   "source": [
    "ds['owner'].value_counts()"
   ]
  },
  {
   "cell_type": "code",
   "execution_count": 15,
   "metadata": {},
   "outputs": [],
   "source": [
    "X=pd.get_dummies(ds[['year', 'km_driven', 'fuel', 'seller_type',\n",
    "       'transmission', 'owner']],\n",
    "                drop_first=True)"
   ]
  },
  {
   "cell_type": "code",
   "execution_count": 16,
   "metadata": {},
   "outputs": [
    {
     "data": {
      "text/html": [
       "<div>\n",
       "<style scoped>\n",
       "    .dataframe tbody tr th:only-of-type {\n",
       "        vertical-align: middle;\n",
       "    }\n",
       "\n",
       "    .dataframe tbody tr th {\n",
       "        vertical-align: top;\n",
       "    }\n",
       "\n",
       "    .dataframe thead th {\n",
       "        text-align: right;\n",
       "    }\n",
       "</style>\n",
       "<table border=\"1\" class=\"dataframe\">\n",
       "  <thead>\n",
       "    <tr style=\"text-align: right;\">\n",
       "      <th></th>\n",
       "      <th>year</th>\n",
       "      <th>km_driven</th>\n",
       "      <th>fuel_Diesel</th>\n",
       "      <th>fuel_Electric</th>\n",
       "      <th>fuel_LPG</th>\n",
       "      <th>fuel_Petrol</th>\n",
       "      <th>seller_type_Individual</th>\n",
       "      <th>seller_type_Trustmark Dealer</th>\n",
       "      <th>transmission_Manual</th>\n",
       "      <th>owner_Fourth &amp; Above Owner</th>\n",
       "      <th>owner_Second Owner</th>\n",
       "      <th>owner_Test Drive Car</th>\n",
       "      <th>owner_Third Owner</th>\n",
       "    </tr>\n",
       "  </thead>\n",
       "  <tbody>\n",
       "    <tr>\n",
       "      <th>0</th>\n",
       "      <td>2007</td>\n",
       "      <td>70000</td>\n",
       "      <td>0</td>\n",
       "      <td>0</td>\n",
       "      <td>0</td>\n",
       "      <td>1</td>\n",
       "      <td>1</td>\n",
       "      <td>0</td>\n",
       "      <td>1</td>\n",
       "      <td>0</td>\n",
       "      <td>0</td>\n",
       "      <td>0</td>\n",
       "      <td>0</td>\n",
       "    </tr>\n",
       "    <tr>\n",
       "      <th>1</th>\n",
       "      <td>2007</td>\n",
       "      <td>50000</td>\n",
       "      <td>0</td>\n",
       "      <td>0</td>\n",
       "      <td>0</td>\n",
       "      <td>1</td>\n",
       "      <td>1</td>\n",
       "      <td>0</td>\n",
       "      <td>1</td>\n",
       "      <td>0</td>\n",
       "      <td>0</td>\n",
       "      <td>0</td>\n",
       "      <td>0</td>\n",
       "    </tr>\n",
       "    <tr>\n",
       "      <th>2</th>\n",
       "      <td>2012</td>\n",
       "      <td>100000</td>\n",
       "      <td>1</td>\n",
       "      <td>0</td>\n",
       "      <td>0</td>\n",
       "      <td>0</td>\n",
       "      <td>1</td>\n",
       "      <td>0</td>\n",
       "      <td>1</td>\n",
       "      <td>0</td>\n",
       "      <td>0</td>\n",
       "      <td>0</td>\n",
       "      <td>0</td>\n",
       "    </tr>\n",
       "    <tr>\n",
       "      <th>3</th>\n",
       "      <td>2017</td>\n",
       "      <td>46000</td>\n",
       "      <td>0</td>\n",
       "      <td>0</td>\n",
       "      <td>0</td>\n",
       "      <td>1</td>\n",
       "      <td>1</td>\n",
       "      <td>0</td>\n",
       "      <td>1</td>\n",
       "      <td>0</td>\n",
       "      <td>0</td>\n",
       "      <td>0</td>\n",
       "      <td>0</td>\n",
       "    </tr>\n",
       "    <tr>\n",
       "      <th>4</th>\n",
       "      <td>2014</td>\n",
       "      <td>141000</td>\n",
       "      <td>1</td>\n",
       "      <td>0</td>\n",
       "      <td>0</td>\n",
       "      <td>0</td>\n",
       "      <td>1</td>\n",
       "      <td>0</td>\n",
       "      <td>1</td>\n",
       "      <td>0</td>\n",
       "      <td>1</td>\n",
       "      <td>0</td>\n",
       "      <td>0</td>\n",
       "    </tr>\n",
       "  </tbody>\n",
       "</table>\n",
       "</div>"
      ],
      "text/plain": [
       "   year  km_driven  fuel_Diesel  fuel_Electric  fuel_LPG  fuel_Petrol  \\\n",
       "0  2007      70000            0              0         0            1   \n",
       "1  2007      50000            0              0         0            1   \n",
       "2  2012     100000            1              0         0            0   \n",
       "3  2017      46000            0              0         0            1   \n",
       "4  2014     141000            1              0         0            0   \n",
       "\n",
       "   seller_type_Individual  seller_type_Trustmark Dealer  transmission_Manual  \\\n",
       "0                       1                             0                    1   \n",
       "1                       1                             0                    1   \n",
       "2                       1                             0                    1   \n",
       "3                       1                             0                    1   \n",
       "4                       1                             0                    1   \n",
       "\n",
       "   owner_Fourth & Above Owner  owner_Second Owner  owner_Test Drive Car  \\\n",
       "0                           0                   0                     0   \n",
       "1                           0                   0                     0   \n",
       "2                           0                   0                     0   \n",
       "3                           0                   0                     0   \n",
       "4                           0                   1                     0   \n",
       "\n",
       "   owner_Third Owner  \n",
       "0                  0  \n",
       "1                  0  \n",
       "2                  0  \n",
       "3                  0  \n",
       "4                  0  "
      ]
     },
     "execution_count": 16,
     "metadata": {},
     "output_type": "execute_result"
    }
   ],
   "source": [
    "X.head()"
   ]
  },
  {
   "cell_type": "markdown",
   "metadata": {
    "colab_type": "text",
    "id": "WemVnqgeA70k"
   },
   "source": [
    "## Splitting the dataset into the Training set and Test set\n",
    "- Random State 20"
   ]
  },
  {
   "cell_type": "code",
   "execution_count": 19,
   "metadata": {},
   "outputs": [],
   "source": [
    "from sklearn.model_selection import train_test_split\n",
    "X_train, X_rest, y_train, y_rest= train_test_split(X,y,\n",
    "                                                  test_size=.2,\n",
    "                                                  random_state=20)"
   ]
  },
  {
   "cell_type": "code",
   "execution_count": 20,
   "metadata": {},
   "outputs": [],
   "source": [
    "X_test, X_val, y_test, y_val=train_test_split(X_rest,y_rest,\n",
    "                                                  test_size=.5,\n",
    "                                                  random_state=20)"
   ]
  },
  {
   "cell_type": "markdown",
   "metadata": {
    "colab_type": "text",
    "id": "k-McZVsQBINc"
   },
   "source": [
    "## Training the Multiple Linear Regression model on the Training set"
   ]
  },
  {
   "cell_type": "code",
   "execution_count": 21,
   "metadata": {},
   "outputs": [
    {
     "data": {
      "text/plain": [
       "LinearRegression()"
      ]
     },
     "execution_count": 21,
     "metadata": {},
     "output_type": "execute_result"
    }
   ],
   "source": [
    "from sklearn.linear_model import LinearRegression\n",
    "regressor=LinearRegression()\n",
    "regressor.fit(X_train.values, y_train)"
   ]
  },
  {
   "cell_type": "code",
   "execution_count": null,
   "metadata": {},
   "outputs": [],
   "source": []
  },
  {
   "cell_type": "markdown",
   "metadata": {},
   "source": [
    "## Intercept and Coefficient"
   ]
  },
  {
   "cell_type": "code",
   "execution_count": 23,
   "metadata": {},
   "outputs": [
    {
     "name": "stdout",
     "output_type": "stream",
     "text": [
      "The coefficients are: [[ 3.62245575e+04 -8.31584195e-01  2.88702246e+05  1.89174898e-10\n",
      "   4.65464254e+04  2.64057958e+03 -6.04980455e+04  1.71882689e+05\n",
      "  -8.64323880e+05 -3.50851884e+03 -4.04890692e+04  1.83178786e+05\n",
      "  -2.83903020e+04]]\n",
      "The intercept is: [-71683645.58006911]\n"
     ]
    }
   ],
   "source": [
    "print('The coefficients are:', regressor.coef_)\n",
    "print('The intercept is:', regressor.intercept_)"
   ]
  },
  {
   "cell_type": "code",
   "execution_count": 24,
   "metadata": {},
   "outputs": [
    {
     "data": {
      "text/plain": [
       "Index(['year', 'km_driven', 'fuel_Diesel', 'fuel_Electric', 'fuel_LPG',\n",
       "       'fuel_Petrol', 'seller_type_Individual', 'seller_type_Trustmark Dealer',\n",
       "       'transmission_Manual', 'owner_Fourth & Above Owner',\n",
       "       'owner_Second Owner', 'owner_Test Drive Car', 'owner_Third Owner'],\n",
       "      dtype='object')"
      ]
     },
     "execution_count": 24,
     "metadata": {},
     "output_type": "execute_result"
    }
   ],
   "source": [
    "X_train.columns"
   ]
  },
  {
   "cell_type": "markdown",
   "metadata": {
    "colab_type": "text",
    "id": "xNkXL1YQBiBT"
   },
   "source": [
    "## Predicting the Test set results"
   ]
  },
  {
   "cell_type": "markdown",
   "metadata": {},
   "source": [
    "## selling price= -71683645.58006911+ year(3.62245575e+04)+km_driven(-8.31584195e-01)+fuel_Diesel(2.88702246e+05)+fuel_Electric(1.89174898e-10)+fuel_LPG(4.65464254e+04)+fuel_Petro(2.64057958e+03)+seller_type_Individual(-6.04980455e+04)+'seller_type_Trustmark Dealer(1.71882689e+05)+transmission_Manual(-8.64323880e+05)+owner_Fourth & Above Owner(-3.50851884e+03)+owner_Second Owner(-4.04890692e+04)+owner_Test Drive Car(1.83178786e+05)+owner_Third Owner( -2.83903020e+04)"
   ]
  },
  {
   "cell_type": "code",
   "execution_count": null,
   "metadata": {},
   "outputs": [],
   "source": []
  },
  {
   "cell_type": "markdown",
   "metadata": {},
   "source": [
    "### Calculate RMSE, R-Square"
   ]
  },
  {
   "cell_type": "code",
   "execution_count": 28,
   "metadata": {},
   "outputs": [],
   "source": [
    "y_pred=regressor.predict(X_test.values)"
   ]
  },
  {
   "cell_type": "code",
   "execution_count": 30,
   "metadata": {},
   "outputs": [
    {
     "name": "stdout",
     "output_type": "stream",
     "text": [
      "The r-square is  0.54\n",
      "The RMSE is  392646.28\n"
     ]
    }
   ],
   "source": [
    "from sklearn.metrics import mean_squared_error, r2_score\n",
    "import math\n",
    "print(f'The r-square is {r2_score(y_test, y_pred): .2f}')\n",
    "print(f'The RMSE is {math.sqrt(mean_squared_error(y_test, y_pred)): .2f}')"
   ]
  },
  {
   "cell_type": "code",
   "execution_count": null,
   "metadata": {},
   "outputs": [],
   "source": []
  },
  {
   "cell_type": "markdown",
   "metadata": {},
   "source": [
    "## Validation case scenario:\n",
    "#### 1. Predict how much will be the car selling price for a car of \n",
    "- year 2014 \n",
    "- 70000 km driven \n",
    "- fuel type Diesel\n",
    "- Seller type Dealer\n",
    "- manual transmission\n",
    "- first owner\n",
    "\n",
    "** 465000 ** actual\n"
   ]
  },
  {
   "cell_type": "code",
   "execution_count": 34,
   "metadata": {},
   "outputs": [],
   "source": [
    "y_predval=regressor.predict(X_val.values)"
   ]
  },
  {
   "cell_type": "code",
   "execution_count": 35,
   "metadata": {},
   "outputs": [],
   "source": [
    "y_validate=y_val.to_numpy()"
   ]
  },
  {
   "cell_type": "code",
   "execution_count": 36,
   "metadata": {},
   "outputs": [
    {
     "data": {
      "text/plain": [
       "array([[ 280943.85990559,  350000.        ],\n",
       "       [ 821100.12192747,  780000.        ],\n",
       "       [ 465915.677426  ,  434999.        ],\n",
       "       [ 644135.25563619,  425000.        ],\n",
       "       [ 425421.76671462,  280000.        ],\n",
       "       [1317666.22883591,  850000.        ],\n",
       "       [ 163472.75913742,  120000.        ],\n",
       "       [ 357444.30497424,  250000.        ],\n",
       "       [ 465344.37372941,  198000.        ],\n",
       "       [ 182292.02908249,  120000.        ],\n",
       "       [ 432081.00592296,  350000.        ],\n",
       "       [ 464254.23321456,  125000.        ],\n",
       "       [ 146019.33954768,  225000.        ],\n",
       "       [ 236403.46050055,  300000.        ],\n",
       "       [ 582333.88804127,  490000.        ],\n",
       "       [1310281.53682841,  750000.        ],\n",
       "       [ 163472.75913742,  175000.        ],\n",
       "       [ 289259.70185719,  164000.        ],\n",
       "       [ 601308.66958538,  525000.        ],\n",
       "       [ 511497.22024338,  550000.        ],\n",
       "       [ 302980.84107736,  229999.        ],\n",
       "       [ 477192.70902458,  350000.        ],\n",
       "       [ 402091.29519325,  270000.        ],\n",
       "       [ 615703.8466617 ,  250000.        ],\n",
       "       [ -25484.28362502,   75000.        ],\n",
       "       [ 370908.92261469,  220000.        ],\n",
       "       [ 510764.96755353,  550000.        ],\n",
       "       [ 380528.08670911,  160000.        ],\n",
       "       [  37857.77977452,   80000.        ],\n",
       "       [1491394.03310956, 1750000.        ],\n",
       "       [ 115149.43439887,  210000.        ],\n",
       "       [   4452.74740078,   80000.        ],\n",
       "       [ 288585.66400103,  450000.        ],\n",
       "       [ 629335.4700429 ,  415000.        ],\n",
       "       [ 487014.17302753,  700000.        ],\n",
       "       [ 731957.70421498,  700000.        ],\n",
       "       [ 112862.56255521,  160000.        ],\n",
       "       [ 482856.25205173,  650000.        ],\n",
       "       [ 500478.79066798,  349000.        ],\n",
       "       [ 491172.09400333,  570000.        ],\n",
       "       [1244410.70756339,  450000.        ],\n",
       "       [1697897.76494119, 3800000.        ],\n",
       "       [ 424586.89965786,  220000.        ],\n",
       "       [1310955.57468459,  900000.        ],\n",
       "       [ 419232.24735323,  350000.        ],\n",
       "       [ 206417.81925081,   45000.        ],\n",
       "       [1598680.40945019, 2750000.        ],\n",
       "       [-369440.30675186,   85000.        ],\n",
       "       [ 162651.0234509 ,  200999.        ],\n",
       "       [ 637791.47279738,  400000.        ],\n",
       "       [ 788510.7919772 ,  650000.        ],\n",
       "       [-126389.44322377,  310000.        ],\n",
       "       [ -87137.95338957,  120000.        ],\n",
       "       [ 610498.87951219,  320000.        ],\n",
       "       [ 449283.99352278,  239000.        ],\n",
       "       [  68636.97588101,   80000.        ],\n",
       "       [  91023.64423057,   70000.        ],\n",
       "       [ 115149.43439887,  160000.        ],\n",
       "       [-195811.62574983,   35000.        ],\n",
       "       [1338864.29018639,  300000.        ],\n",
       "       [ 563621.20891018,  347000.        ],\n",
       "       [  -7194.73221762,   85000.        ],\n",
       "       [ 285101.78088139,  170000.        ],\n",
       "       [ 764759.9974512 , 1150000.        ],\n",
       "       [ 542058.00042604,  173000.        ],\n",
       "       [ 363414.81634961,  300000.        ],\n",
       "       [ 543770.0896014 ,  930000.        ],\n",
       "       [ 497517.60102099,  320000.        ],\n",
       "       [ 649972.89501423,  409999.        ],\n",
       "       [ 649354.06054625,  670000.        ],\n",
       "       [1344685.37955253,  600000.        ],\n",
       "       [1575396.05198568, 2750000.        ],\n",
       "       [ 243415.98030935,  290000.        ],\n",
       "       [ 727029.81794643,  585000.        ],\n",
       "       [ 489201.75906938,  295000.        ],\n",
       "       [ 417526.24776766,  160000.        ],\n",
       "       [ 265027.3208749 ,   75000.        ],\n",
       "       [ 731496.62964475, 1200000.        ],\n",
       "       [ 296888.08073671,  630000.        ],\n",
       "       [ 800984.55490462,  900000.        ],\n",
       "       [ 425842.08971927,  619000.        ],\n",
       "       [ 785707.14866921,  950000.        ],\n",
       "       [ 397933.37421745,  250000.        ],\n",
       "       [ 402091.29519325,  600000.        ],\n",
       "       [ 748128.31354797,  819999.        ],\n",
       "       [1604136.35168265,  675000.        ],\n",
       "       [ 800984.55490462, 1900000.        ],\n",
       "       [ 372985.84836262,  370000.        ],\n",
       "       [ 458431.41966954,  625000.        ],\n",
       "       [ 563621.20891018,  520000.        ],\n",
       "       [ 235100.13835774,  350000.        ],\n",
       "       [ 630196.9912691 ,  325000.        ],\n",
       "       [ 114375.83079377,   75000.        ],\n",
       "       [ 266414.87944584,  235000.        ],\n",
       "       [ 433952.05505508,  180000.        ],\n",
       "       [ 178192.56683928,  180000.        ],\n",
       "       [  37857.77977452,   80000.        ],\n",
       "       [ 464254.23321456,  130000.        ],\n",
       "       [ 348403.46964145,  565000.        ],\n",
       "       [ 760602.07647538,  640000.        ],\n",
       "       [  78924.87694545,  150000.        ],\n",
       "       [ 496214.2788782 ,  450000.        ],\n",
       "       [ 740335.16506901,  525000.        ],\n",
       "       [  62399.78385621,  125000.        ],\n",
       "       [ 625458.32927094,  600000.        ],\n",
       "       [ -70024.68303004,  100000.        ],\n",
       "       [ 497150.72970845,  595000.        ],\n",
       "       [ 396612.44142224,  320000.        ],\n",
       "       [ 433277.73725179,  300000.        ],\n",
       "       [ 294245.04910719,  200000.        ],\n",
       "       [  92686.81262089,  233000.        ],\n",
       "       [ 565568.22992313, 1000000.        ],\n",
       "       [ 924189.33404496,  225000.        ],\n",
       "       [  27945.29616819,   70000.        ],\n",
       "       [ 124768.59849331,  350000.        ],\n",
       "       [ 512119.24522135, 1025000.        ],\n",
       "       [1281850.12785394,  450000.        ],\n",
       "       [ 457028.53177778,  320000.        ],\n",
       "       [ 473660.21568102,  409999.        ],\n",
       "       [ 307597.38534598,   70000.        ],\n",
       "       [  37857.77977452,   80000.        ],\n",
       "       [ 525426.31652281,  300000.        ],\n",
       "       [  37446.95711522,  550000.        ],\n",
       "       [ 428029.67576113,  160000.        ],\n",
       "       [ 669858.109275  ,  900000.        ],\n",
       "       [ 544331.1786295 ,  260000.        ],\n",
       "       [ -78340.52498166,   79000.        ],\n",
       "       [ 525892.75358431,  350000.        ],\n",
       "       [ 250958.21865584,  125000.        ],\n",
       "       [ 280837.26909159,  300000.        ],\n",
       "       [ 639612.1875267 ,  421000.        ],\n",
       "       [1659644.89196377, 2675000.        ],\n",
       "       [  21236.67675683,  190000.        ],\n",
       "       [ 586743.55407913,  390000.        ],\n",
       "       [-178698.35539031,   68000.        ],\n",
       "       [ 456769.9754581 ,  225000.        ],\n",
       "       [ 118110.62404586,  150000.        ],\n",
       "       [  -6438.73926492,   95000.        ],\n",
       "       [ 564612.06362319,  350000.        ],\n",
       "       [1461732.87445445, 4000000.        ],\n",
       "       [ 259274.06060745,  300000.        ],\n",
       "       [ 242781.42667572,  275000.        ],\n",
       "       [ -90920.87872307,   90000.        ],\n",
       "       [ 519080.80950515,  810000.        ],\n",
       "       [ 506977.10013005,  310000.        ],\n",
       "       [ 241392.96567152,  330000.        ],\n",
       "       [ 489201.75906938,  449000.        ],\n",
       "       [ 459559.87942238,  396000.        ],\n",
       "       [ 484016.31058945,  225000.        ],\n",
       "       [ 325535.21483563,  525000.        ],\n",
       "       [ 108136.91459008,  114999.        ],\n",
       "       [ 417526.24776766,  300000.        ],\n",
       "       [ 709043.8563754 ,  750000.        ],\n",
       "       [1375187.43317294,  520000.        ],\n",
       "       [ 472570.07516617,  250000.        ],\n",
       "       [ 642415.83083467,  869999.        ],\n",
       "       [ 574018.04608966,  640000.        ],\n",
       "       [ 255996.33405076,  350000.        ],\n",
       "       [ 507961.32424554,  430999.        ],\n",
       "       [ 333800.10126224,  210000.        ],\n",
       "       [ 683832.42701659,  490000.        ],\n",
       "       [ 622822.95728448,  420000.        ],\n",
       "       [ 260154.25502656,  350000.        ],\n",
       "       [-207088.65734841,   85000.        ],\n",
       "       [ 582333.88804127,  350000.        ],\n",
       "       [ 487014.17302753,  434999.        ],\n",
       "       [1453574.57884184, 1580000.        ],\n",
       "       [ 650731.6727863 , 1300000.        ],\n",
       "       [  54025.48317203,   80000.        ],\n",
       "       [ 809300.39685623, 1400000.        ],\n",
       "       [ 476203.57849044,  475000.        ],\n",
       "       [  42700.31949203,   91200.        ],\n",
       "       [ 461293.04356757,  350000.        ],\n",
       "       [ 424586.89965786,  175000.        ],\n",
       "       [ 521161.80473302,  600000.        ],\n",
       "       [  18574.52932373,  190000.        ],\n",
       "       [ 118866.61699857,  165000.        ],\n",
       "       [ 571979.88205703,  400000.        ],\n",
       "       [ 382858.26789056,  250000.        ],\n",
       "       [ 659047.5147379 ,  500000.        ],\n",
       "       [   6475.7620386 ,  100000.        ],\n",
       "       [ 293575.169172  ,  235000.        ],\n",
       "       [ 220968.50792615,  145000.        ],\n",
       "       [ 483740.51595077,  725000.        ],\n",
       "       [  90201.90854405,  254999.        ],\n",
       "       [ 504143.52120556,  670000.        ],\n",
       "       [ 399573.63106921,  390000.        ],\n",
       "       [ 517110.4745712 ,  349000.        ],\n",
       "       [ 819910.9565284 , 1150000.        ],\n",
       "       [ -18471.76381622,  160000.        ],\n",
       "       [  30226.55656461,  650000.        ],\n",
       "       [ 212810.21231353,  175000.        ],\n",
       "       [ 722871.89697063,  600000.        ],\n",
       "       [ 242018.67325087,   89999.        ],\n",
       "       [ 643612.5621635 ,  715000.        ],\n",
       "       [ 501568.93118283,  620000.        ],\n",
       "       [ 813410.48415014,   85000.        ],\n",
       "       [ 674016.0302508 ,  509999.        ],\n",
       "       [ 624486.1256748 ,  650000.        ],\n",
       "       [ 764759.9974512 ,  680000.        ],\n",
       "       [ 489201.75906938,  300000.        ],\n",
       "       [ 866867.4918022 ,  750000.        ],\n",
       "       [1411021.14605464,  525000.        ],\n",
       "       [ 968399.45833625,  700000.        ],\n",
       "       [ 376263.57491933,  350000.        ],\n",
       "       [ 367851.11121161,  696000.        ],\n",
       "       [ 549175.38686994,  890000.        ],\n",
       "       [1491827.45181924, 1490000.        ],\n",
       "       [1604136.35168265, 1400000.        ],\n",
       "       [ 391805.11830771,  400000.        ],\n",
       "       [ 448712.68982618,  312000.        ],\n",
       "       [ 752443.78086276,  880000.        ],\n",
       "       [  74326.21759354,  200000.        ],\n",
       "       [ 568196.95672353,  530000.        ],\n",
       "       [ 466224.56814849,  200000.        ],\n",
       "       [ 402091.29519325,  350000.        ],\n",
       "       [ 498291.20462611,  265000.        ],\n",
       "       [-152092.96203132,  125000.        ],\n",
       "       [ 538990.21996507,  300000.        ],\n",
       "       [ 436229.07839012,  400000.        ],\n",
       "       [1325230.46730673,  950000.        ],\n",
       "       [ 356678.10930943,  475000.        ],\n",
       "       [ 433384.32806577,  300000.        ],\n",
       "       [1367387.17342234,  550000.        ],\n",
       "       [1375187.43317294,  520000.        ],\n",
       "       [ 764740.41635662,  840000.        ],\n",
       "       [ 395481.45282722,  260000.        ],\n",
       "       [ 607388.00471009,  400000.        ],\n",
       "       [ 642415.83083467,  650000.        ],\n",
       "       [ 489095.1682554 ,  340000.        ],\n",
       "       [ 683056.8655836 ,  800000.        ],\n",
       "       [ 568252.90257362,  550000.        ],\n",
       "       [ 734613.78413431,  585000.        ],\n",
       "       [1567911.79422922, 1200000.        ],\n",
       "       [ 487171.71936652,  525000.        ],\n",
       "       [ 574018.04608966,  350000.        ],\n",
       "       [ 866867.4918022 ,  750000.        ],\n",
       "       [ 227314.01494381,  100000.        ],\n",
       "       [  53617.50484312,   60000.        ],\n",
       "       [ 388362.34220444,  170000.        ],\n",
       "       [ 533742.15847442,  250999.        ],\n",
       "       [ 155638.5036421 ,  409999.        ],\n",
       "       [ 473660.21568102,  400000.        ],\n",
       "       [ 810963.56524655,  700000.        ],\n",
       "       [ 655979.73427695,  610000.        ],\n",
       "       [ 561650.87397623,  800000.        ],\n",
       "       [ 639348.05037372,  350000.        ],\n",
       "       [ 195279.83762372,  229999.        ],\n",
       "       [ 618665.03630868, 1125000.        ],\n",
       "       [ 683995.04059273,  600000.        ],\n",
       "       [ 450789.61557411,  350000.        ],\n",
       "       [ 528477.71091047,  425000.        ],\n",
       "       [ 465344.37372941,  200000.        ],\n",
       "       [ 662008.70438488,  550000.        ],\n",
       "       [ 242642.37670423,  225000.        ],\n",
       "       [ 514922.88852935,  500000.        ],\n",
       "       [ 519080.80950515,  300000.        ],\n",
       "       [1313036.56991246, 1350000.        ],\n",
       "       [ 482856.25205173, 1200000.        ],\n",
       "       [ 887543.08797449,  770000.        ],\n",
       "       [ 349235.05383661,  600000.        ],\n",
       "       [ 417526.24776766,  210000.        ],\n",
       "       [1644209.93938938, 1050000.        ],\n",
       "       [ 678640.3882881 ,  370000.        ],\n",
       "       [ 428029.67576113,  195000.        ],\n",
       "       [ 276679.34811579,  351000.        ],\n",
       "       [1633241.79851329,  950000.        ],\n",
       "       [ 465445.66365723,  509999.        ],\n",
       "       [ 434157.93167087,  350000.        ],\n",
       "       [ 386540.67074375,  220000.        ],\n",
       "       [ 564668.32003437,  565000.        ],\n",
       "       [ 118110.62404586,  300000.        ],\n",
       "       [ 739812.47159636,  850000.        ],\n",
       "       [ 654783.00294812,  890000.        ],\n",
       "       [ 512845.96278141,  600000.        ],\n",
       "       [ -33800.12557663,  250000.        ],\n",
       "       [ 388108.33350724, 1030000.        ],\n",
       "       [ 530233.63963734,  250000.        ],\n",
       "       [ 651821.34333606, 1800000.        ],\n",
       "       [ 489201.75906938,  550000.        ],\n",
       "       [ 406362.62158608,  575000.        ],\n",
       "       [ 678640.3882881 ,  750000.        ],\n",
       "       [ 155392.20668332,  370000.        ],\n",
       "       [  55280.67323343,  135000.        ],\n",
       "       [ 218516.58653592,  110000.        ],\n",
       "       [ 396792.8992998 ,  690000.        ],\n",
       "       [ 405122.33791263,  530000.        ],\n",
       "       [ 402091.29519325,  425000.        ],\n",
       "       [ 312903.90556921,  250000.        ],\n",
       "       [ 393775.45324165,  620000.        ],\n",
       "       [ 419607.24299553,  290000.        ],\n",
       "       [1377559.11129755,  350000.        ],\n",
       "       [ 272319.12723148,  180000.        ],\n",
       "       [ 464254.23321456,  225000.        ],\n",
       "       [  80067.22269832,  160000.        ],\n",
       "       [ 296272.22166599,  300000.        ],\n",
       "       [ -51735.13162269,   60000.        ],\n",
       "       [ 462066.64717269,  183000.        ],\n",
       "       [ 146019.33954768,  225000.        ],\n",
       "       [ 586116.81337477,  450000.        ],\n",
       "       [ 435286.01843761,  530000.        ],\n",
       "       [ 501568.93118283,  775000.        ],\n",
       "       [ 655222.46853952,  585000.        ],\n",
       "       [ 556658.50106658,  425000.        ],\n",
       "       [ 650045.02534044,  650000.        ],\n",
       "       [ 294332.82404578,   75000.        ],\n",
       "       [ 730222.35134366, 1000000.        ],\n",
       "       [ 115149.43439887,   99000.        ],\n",
       "       [  53977.35109062,  114999.        ],\n",
       "       [ 756444.15549958, 1250000.        ],\n",
       "       [ 716061.67707035,  925000.        ],\n",
       "       [ 417526.24776766,  150000.        ],\n",
       "       [ 558689.68432926,  320000.        ],\n",
       "       [  34384.47754042,  120000.        ],\n",
       "       [ 325484.25931062,  275000.        ],\n",
       "       [ 486101.24020372,  325000.        ],\n",
       "       [ 260047.66421257,  240000.        ],\n",
       "       [ 360405.49462123,  600000.        ],\n",
       "       [ 726840.67140803, 1490000.        ],\n",
       "       [ 711903.75609455,  800000.        ],\n",
       "       [ 824680.92347184, 1490000.        ],\n",
       "       [ 478698.33107592,  600000.        ],\n",
       "       [ 273459.60214914,  290000.        ],\n",
       "       [ -62256.17026855,  175000.        ],\n",
       "       [1687918.75459924, 3899000.        ],\n",
       "       [ 460927.8964339 ,  300000.        ],\n",
       "       [-182962.86718009,   80000.        ],\n",
       "       [ 870630.02650347, 1295000.        ],\n",
       "       [ 145245.73594254,  350000.        ],\n",
       "       [  43456.31244475,  110000.        ],\n",
       "       [ 265508.9073312 ,  210000.        ],\n",
       "       [ 268003.65991668,  155000.        ],\n",
       "       [ 622822.95728448,  950000.        ],\n",
       "       [ 442940.21068399,  550000.        ],\n",
       "       [ 617468.30497985,  525000.        ],\n",
       "       [ 287938.76906197,  100000.        ],\n",
       "       [ 200178.90304713,  250000.        ],\n",
       "       [ 466224.56814849,  275000.        ],\n",
       "       [ 480885.91711777,  500000.        ],\n",
       "       [1375187.43317294,  520000.        ],\n",
       "       [ 147322.66169049,   80000.        ],\n",
       "       [  21535.7189707 ,  120000.        ],\n",
       "       [ 489143.77847934,  550000.        ],\n",
       "       [ 292220.89150418,  500000.        ],\n",
       "       [ 109794.78209426,  147000.        ],\n",
       "       [ 609517.6101619 ,  450000.        ],\n",
       "       [ 343000.20711288,  150000.        ],\n",
       "       [ 354949.55238877,  440000.        ],\n",
       "       [1479546.14029169, 2300000.        ],\n",
       "       [ 657019.19921391,  744000.        ],\n",
       "       [ 523238.73048095,  550000.        ],\n",
       "       [ 733940.73726632,  825000.        ],\n",
       "       [ 558689.68432926,  300000.        ],\n",
       "       [ 657238.36445534,  470000.        ],\n",
       "       [ -74048.80062243,   85000.        ],\n",
       "       [ 529477.64668463,  550000.        ],\n",
       "       [1442879.65617986,  735000.        ],\n",
       "       [ 143058.14990069,  250000.        ],\n",
       "       [ 398771.15642808,  470000.        ],\n",
       "       [-120401.32119602,   51111.        ],\n",
       "       [ 107589.58539999,  120000.        ],\n",
       "       [ 600370.18401513,  550000.        ],\n",
       "       [ 392098.89783221,  330000.        ],\n",
       "       [ 108136.91459008,  150000.        ],\n",
       "       [  56634.95090126,  125000.        ],\n",
       "       [1775643.54169683, 2595000.        ],\n",
       "       [ 216810.58695035,  225000.        ],\n",
       "       [ 810624.37756412,  541000.        ],\n",
       "       [ 581300.0039376 ,  385000.        ],\n",
       "       [ 127729.78814028,  300000.        ],\n",
       "       [ 240454.79066236,  250000.        ],\n",
       "       [ 311813.76505436,  400000.        ],\n",
       "       [1363137.77818505,  635000.        ],\n",
       "       [ 723180.78769314,  500000.        ],\n",
       "       [  29029.8252358 ,  300000.        ],\n",
       "       [ 367947.73296772,  300000.        ],\n",
       "       [ 158655.94970024,  110000.        ],\n",
       "       [ 648703.3572623 ,  660000.        ],\n",
       "       [ 341342.33960871,  250000.        ],\n",
       "       [ 470382.4891243 ,  245000.        ],\n",
       "       [1394963.70990418,  600000.        ],\n",
       "       [ 727112.97636595,  675000.        ],\n",
       "       [ 560454.14264739,  800000.        ],\n",
       "       [ 365866.73773983,  850000.        ],\n",
       "       [ 574839.78177619,  185000.        ],\n",
       "       [ 434591.08782928,  320000.        ],\n",
       "       [ 123465.27635048,  130000.        ],\n",
       "       [1360163.16332217, 1200000.        ],\n",
       "       [ 327565.25453849,  500000.        ],\n",
       "       [ -87137.95338957,  100000.        ],\n",
       "       [ 423765.16397135,  200000.        ],\n",
       "       [ 469127.29906289,  215000.        ],\n",
       "       [ 751145.75960611,  790000.        ],\n",
       "       [ 226784.29640613,  180000.        ],\n",
       "       [ 472022.74597606,  290000.        ],\n",
       "       [ 752286.23452377,  800000.        ],\n",
       "       [ 625850.38235298,  750000.        ],\n",
       "       [ 699018.81758863,  465000.        ],\n",
       "       [ 210462.73180258,  300000.        ],\n",
       "       [ -13117.1115116 ,   90000.        ],\n",
       "       [-315762.32970868,   42000.        ],\n",
       "       [ 439306.70735972,  375000.        ],\n",
       "       [ 397933.37421745,  300000.        ],\n",
       "       [ 357550.89578822,  300000.        ],\n",
       "       [ 370158.46209908,  350000.        ],\n",
       "       [ 465344.37372941,  220000.        ],\n",
       "       [ 450016.01196899,  400000.        ],\n",
       "       [ 581608.8946601 ,  305000.        ],\n",
       "       [ 246377.16995631,  250000.        ],\n",
       "       [ 521161.80473302,  495000.        ],\n",
       "       [ 434317.20218875,  250000.        ],\n",
       "       [ 494132.53373811,  875000.        ],\n",
       "       [ 337645.55480824,  270000.        ],\n",
       "       [ 172270.18754531,  250000.        ],\n",
       "       [ 243210.10369354,  300000.        ],\n",
       "       [-118829.59422489,  155000.        ],\n",
       "       [ 821100.12192747,  780000.        ],\n",
       "       [ 305217.34790425,  240000.        ],\n",
       "       [1697897.76494119, 3800000.        ],\n",
       "       [ 398508.4368329 ,  150000.        ],\n",
       "       [  63049.18599494,  130000.        ],\n",
       "       [ 613260.04960123,  850000.        ],\n",
       "       [ 275905.74451067,  250000.        ],\n",
       "       [ 686097.52653746,  650000.        ],\n",
       "       [ 448712.68982618,  200000.        ],\n",
       "       [  31680.31377476,  175000.        ],\n",
       "       [ 817773.78514683,  750000.        ],\n",
       "       [ 525426.31652281,  390000.        ],\n",
       "       [ 494449.82056004,  250999.        ],\n",
       "       [ 605709.68692496,  240000.        ],\n",
       "       [   6831.82811114,   78000.        ],\n",
       "       [ 446525.10378431,  450000.        ],\n",
       "       [ 172270.18754531,  180000.        ],\n",
       "       [ 619446.28610103,  450000.        ]])"
      ]
     },
     "execution_count": 36,
     "metadata": {},
     "output_type": "execute_result"
    }
   ],
   "source": [
    "np.hstack((y_predval, y_validate))"
   ]
  },
  {
   "cell_type": "code",
   "execution_count": 37,
   "metadata": {},
   "outputs": [
    {
     "data": {
      "text/html": [
       "<div>\n",
       "<style scoped>\n",
       "    .dataframe tbody tr th:only-of-type {\n",
       "        vertical-align: middle;\n",
       "    }\n",
       "\n",
       "    .dataframe tbody tr th {\n",
       "        vertical-align: top;\n",
       "    }\n",
       "\n",
       "    .dataframe thead th {\n",
       "        text-align: right;\n",
       "    }\n",
       "</style>\n",
       "<table border=\"1\" class=\"dataframe\">\n",
       "  <thead>\n",
       "    <tr style=\"text-align: right;\">\n",
       "      <th></th>\n",
       "      <th>year</th>\n",
       "      <th>km_driven</th>\n",
       "      <th>fuel_Diesel</th>\n",
       "      <th>fuel_Electric</th>\n",
       "      <th>fuel_LPG</th>\n",
       "      <th>fuel_Petrol</th>\n",
       "      <th>seller_type_Individual</th>\n",
       "      <th>seller_type_Trustmark Dealer</th>\n",
       "      <th>transmission_Manual</th>\n",
       "      <th>owner_Fourth &amp; Above Owner</th>\n",
       "      <th>owner_Second Owner</th>\n",
       "      <th>owner_Test Drive Car</th>\n",
       "      <th>owner_Third Owner</th>\n",
       "    </tr>\n",
       "  </thead>\n",
       "  <tbody>\n",
       "    <tr>\n",
       "      <th>2549</th>\n",
       "      <td>2018</td>\n",
       "      <td>26000</td>\n",
       "      <td>1</td>\n",
       "      <td>0</td>\n",
       "      <td>0</td>\n",
       "      <td>0</td>\n",
       "      <td>0</td>\n",
       "      <td>0</td>\n",
       "      <td>1</td>\n",
       "      <td>0</td>\n",
       "      <td>0</td>\n",
       "      <td>0</td>\n",
       "      <td>0</td>\n",
       "    </tr>\n",
       "  </tbody>\n",
       "</table>\n",
       "</div>"
      ],
      "text/plain": [
       "      year  km_driven  fuel_Diesel  fuel_Electric  fuel_LPG  fuel_Petrol  \\\n",
       "2549  2018      26000            1              0         0            0   \n",
       "\n",
       "      seller_type_Individual  seller_type_Trustmark Dealer  \\\n",
       "2549                       0                             0   \n",
       "\n",
       "      transmission_Manual  owner_Fourth & Above Owner  owner_Second Owner  \\\n",
       "2549                    1                           0                   0   \n",
       "\n",
       "      owner_Test Drive Car  owner_Third Owner  \n",
       "2549                     0                  0  "
      ]
     },
     "execution_count": 37,
     "metadata": {},
     "output_type": "execute_result"
    }
   ],
   "source": [
    "X_test.head(1)"
   ]
  },
  {
   "cell_type": "code",
   "execution_count": 42,
   "metadata": {},
   "outputs": [
    {
     "data": {
      "text/plain": [
       "array([[638780.60333155]])"
      ]
     },
     "execution_count": 42,
     "metadata": {},
     "output_type": "execute_result"
    }
   ],
   "source": [
    "#My predicted result\n",
    "regressor.predict([[2014,70000,1,0,0,0,0,0,1,0,0,0,0]])"
   ]
  },
  {
   "cell_type": "code",
   "execution_count": null,
   "metadata": {},
   "outputs": [],
   "source": []
  },
  {
   "cell_type": "code",
   "execution_count": null,
   "metadata": {},
   "outputs": [],
   "source": []
  },
  {
   "cell_type": "code",
   "execution_count": null,
   "metadata": {},
   "outputs": [],
   "source": []
  }
 ],
 "metadata": {
  "colab": {
   "authorship_tag": "ABX9TyPhYhte6t7H4wEK4xPpDWT7",
   "name": "Multiple Linear Regression",
   "provenance": [],
   "toc_visible": true
  },
  "kernelspec": {
   "display_name": "Python 3 (ipykernel)",
   "language": "python",
   "name": "python3"
  },
  "language_info": {
   "codemirror_mode": {
    "name": "ipython",
    "version": 3
   },
   "file_extension": ".py",
   "mimetype": "text/x-python",
   "name": "python",
   "nbconvert_exporter": "python",
   "pygments_lexer": "ipython3",
   "version": "3.9.12"
  }
 },
 "nbformat": 4,
 "nbformat_minor": 1
}
